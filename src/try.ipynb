{
 "cells": [
  {
   "cell_type": "code",
   "execution_count": 1,
   "metadata": {},
   "outputs": [],
   "source": [
    "import numpy as np\n",
    "import pandas as pd\n",
    "import talib\n",
    "import plotly.graph_objects as go\n",
    "from tqdm import tqdm\n",
    "from sklearn.preprocessing import MinMaxScaler\n",
    "import torch.utils.data as Data\n",
    "import torch.nn as nn\n",
    "import torch\n",
    "import os\n",
    "from sklearn import linear_model\n"
   ]
  },
  {
   "cell_type": "code",
   "execution_count": 71,
   "metadata": {},
   "outputs": [],
   "source": [
    "datapath = \"/Users/zed/AI_Lab/DoubleEnsembleML/Data/BTC.csv\""
   ]
  },
  {
   "cell_type": "code",
   "execution_count": 74,
   "metadata": {},
   "outputs": [],
   "source": [
    "df1 = pd.read_csv(datapath)"
   ]
  },
  {
   "cell_type": "code",
   "execution_count": 75,
   "metadata": {},
   "outputs": [],
   "source": [
    "df1['tag'] = list(map(lambda x: 1 if x>=1 else 0,df.Close.shift(1)-df.Close))"
   ]
  },
  {
   "cell_type": "code",
   "execution_count": 76,
   "metadata": {},
   "outputs": [],
   "source": [
    "df = df.drop(['Date'],axis=1)"
   ]
  },
  {
   "cell_type": "code",
   "execution_count": 56,
   "metadata": {},
   "outputs": [
    {
     "name": "stderr",
     "output_type": "stream",
     "text": [
      "/Users/zed/.pyenv/versions/anaconda3-2020.11/lib/python3.8/site-packages/sklearn/utils/validation.py:63: DataConversionWarning: A column-vector y was passed when a 1d array was expected. Please change the shape of y to (n_samples, ), for example using ravel().\n",
      "  return f(*args, **kwargs)\n",
      "/Users/zed/.pyenv/versions/anaconda3-2020.11/lib/python3.8/site-packages/sklearn/utils/validation.py:63: DataConversionWarning: A column-vector y was passed when a 1d array was expected. Please change the shape of y to (n_samples, ), for example using ravel().\n",
      "  return f(*args, **kwargs)\n",
      "/Users/zed/.pyenv/versions/anaconda3-2020.11/lib/python3.8/site-packages/sklearn/utils/validation.py:63: DataConversionWarning: A column-vector y was passed when a 1d array was expected. Please change the shape of y to (n_samples, ), for example using ravel().\n",
      "  return f(*args, **kwargs)\n",
      "/Users/zed/.pyenv/versions/anaconda3-2020.11/lib/python3.8/site-packages/sklearn/utils/validation.py:63: DataConversionWarning: A column-vector y was passed when a 1d array was expected. Please change the shape of y to (n_samples, ), for example using ravel().\n",
      "  return f(*args, **kwargs)\n",
      "/Users/zed/.pyenv/versions/anaconda3-2020.11/lib/python3.8/site-packages/sklearn/utils/validation.py:63: DataConversionWarning: A column-vector y was passed when a 1d array was expected. Please change the shape of y to (n_samples, ), for example using ravel().\n",
      "  return f(*args, **kwargs)\n",
      "/Users/zed/.pyenv/versions/anaconda3-2020.11/lib/python3.8/site-packages/sklearn/utils/validation.py:63: DataConversionWarning: A column-vector y was passed when a 1d array was expected. Please change the shape of y to (n_samples, ), for example using ravel().\n",
      "  return f(*args, **kwargs)\n"
     ]
    }
   ],
   "source": [
    "from final_model import DEnsembleModel\n",
    "model = DEnsembleModel()\n",
    "model.fit(df)"
   ]
  },
  {
   "cell_type": "code",
   "execution_count": 63,
   "metadata": {},
   "outputs": [
    {
     "data": {
      "text/plain": "0.7685359427926233"
     },
     "execution_count": 63,
     "metadata": {},
     "output_type": "execute_result"
    }
   ],
   "source": [
    "pred  = model.predict(df)\n",
    "y = df.tag\n",
    "pred = pred.apply(lambda x:1 if x>= 0.6 else 0)\n",
    "(y == pred).sum()/y.shape[0]"
   ]
  },
  {
   "cell_type": "code",
   "execution_count": 64,
   "metadata": {},
   "outputs": [],
   "source": [
    "pred.to_csv(\"pred.csv\")"
   ]
  },
  {
   "cell_type": "code",
   "execution_count": 84,
   "metadata": {},
   "outputs": [
    {
     "ename": "AttributeError",
     "evalue": "'Series' object has no attribute 'set_columns'",
     "output_type": "error",
     "traceback": [
      "\u001b[0;31m---------------------------------------------------------------------------\u001b[0m",
      "\u001b[0;31mAttributeError\u001b[0m                            Traceback (most recent call last)",
      "\u001b[0;32m<ipython-input-84-2f7a4d76a6b1>\u001b[0m in \u001b[0;36m<module>\u001b[0;34m\u001b[0m\n\u001b[0;32m----> 1\u001b[0;31m \u001b[0mpred\u001b[0m\u001b[0;34m.\u001b[0m\u001b[0mset_columns\u001b[0m\u001b[0;34m(\u001b[0m\u001b[0;34m[\u001b[0m\u001b[0;34m\"pre\"\u001b[0m\u001b[0;34m]\u001b[0m\u001b[0;34m)\u001b[0m\u001b[0;34m\u001b[0m\u001b[0;34m\u001b[0m\u001b[0m\n\u001b[0m",
      "\u001b[0;32m~/.pyenv/versions/anaconda3-2020.11/lib/python3.8/site-packages/pandas/core/generic.py\u001b[0m in \u001b[0;36m__getattr__\u001b[0;34m(self, name)\u001b[0m\n\u001b[1;32m   5463\u001b[0m             \u001b[0;32mif\u001b[0m \u001b[0mself\u001b[0m\u001b[0;34m.\u001b[0m\u001b[0m_info_axis\u001b[0m\u001b[0;34m.\u001b[0m\u001b[0m_can_hold_identifiers_and_holds_name\u001b[0m\u001b[0;34m(\u001b[0m\u001b[0mname\u001b[0m\u001b[0;34m)\u001b[0m\u001b[0;34m:\u001b[0m\u001b[0;34m\u001b[0m\u001b[0;34m\u001b[0m\u001b[0m\n\u001b[1;32m   5464\u001b[0m                 \u001b[0;32mreturn\u001b[0m \u001b[0mself\u001b[0m\u001b[0;34m[\u001b[0m\u001b[0mname\u001b[0m\u001b[0;34m]\u001b[0m\u001b[0;34m\u001b[0m\u001b[0;34m\u001b[0m\u001b[0m\n\u001b[0;32m-> 5465\u001b[0;31m             \u001b[0;32mreturn\u001b[0m \u001b[0mobject\u001b[0m\u001b[0;34m.\u001b[0m\u001b[0m__getattribute__\u001b[0m\u001b[0;34m(\u001b[0m\u001b[0mself\u001b[0m\u001b[0;34m,\u001b[0m \u001b[0mname\u001b[0m\u001b[0;34m)\u001b[0m\u001b[0;34m\u001b[0m\u001b[0;34m\u001b[0m\u001b[0m\n\u001b[0m\u001b[1;32m   5466\u001b[0m \u001b[0;34m\u001b[0m\u001b[0m\n\u001b[1;32m   5467\u001b[0m     \u001b[0;32mdef\u001b[0m \u001b[0m__setattr__\u001b[0m\u001b[0;34m(\u001b[0m\u001b[0mself\u001b[0m\u001b[0;34m,\u001b[0m \u001b[0mname\u001b[0m\u001b[0;34m:\u001b[0m \u001b[0mstr\u001b[0m\u001b[0;34m,\u001b[0m \u001b[0mvalue\u001b[0m\u001b[0;34m)\u001b[0m \u001b[0;34m->\u001b[0m \u001b[0;32mNone\u001b[0m\u001b[0;34m:\u001b[0m\u001b[0;34m\u001b[0m\u001b[0;34m\u001b[0m\u001b[0m\n",
      "\u001b[0;31mAttributeError\u001b[0m: 'Series' object has no attribute 'set_columns'"
     ]
    }
   ],
   "source": []
  },
  {
   "cell_type": "code",
   "execution_count": 77,
   "metadata": {},
   "outputs": [],
   "source": [
    "a = pd.concat([df1.Date,df,pred],axis=1)"
   ]
  },
  {
   "cell_type": "code",
   "execution_count": 86,
   "metadata": {},
   "outputs": [],
   "source": [
    "a['pre'] = a[0]"
   ]
  },
  {
   "cell_type": "code",
   "execution_count": 81,
   "metadata": {},
   "outputs": [],
   "source": [
    "a.to_csv(\"pred.csv\",index= None )"
   ]
  },
  {
   "cell_type": "code",
   "execution_count": 83,
   "metadata": {},
   "outputs": [
    {
     "data": {
      "text/html": "<div>\n<style scoped>\n    .dataframe tbody tr th:only-of-type {\n        vertical-align: middle;\n    }\n\n    .dataframe tbody tr th {\n        vertical-align: top;\n    }\n\n    .dataframe thead th {\n        text-align: right;\n    }\n</style>\n<table border=\"1\" class=\"dataframe\">\n  <thead>\n    <tr style=\"text-align: right;\">\n      <th></th>\n      <th>Date</th>\n      <th>Open</th>\n      <th>High</th>\n      <th>Low</th>\n      <th>Close</th>\n      <th>Volume (BTC)</th>\n      <th>Volume (Currency)</th>\n      <th>Weighted Price</th>\n      <th>tag</th>\n      <th>0</th>\n    </tr>\n  </thead>\n  <tbody>\n    <tr>\n      <th>0</th>\n      <td>2014-01-07</td>\n      <td>874.67040</td>\n      <td>892.06753</td>\n      <td>810.00000</td>\n      <td>810.00000</td>\n      <td>15.622378</td>\n      <td>1.315147e+04</td>\n      <td>841.835522</td>\n      <td>0</td>\n      <td>1</td>\n    </tr>\n    <tr>\n      <th>1</th>\n      <td>2014-01-08</td>\n      <td>810.00000</td>\n      <td>899.84281</td>\n      <td>788.00000</td>\n      <td>824.98287</td>\n      <td>19.182756</td>\n      <td>1.609733e+04</td>\n      <td>839.156269</td>\n      <td>0</td>\n      <td>1</td>\n    </tr>\n    <tr>\n      <th>2</th>\n      <td>2014-01-09</td>\n      <td>825.56345</td>\n      <td>870.00000</td>\n      <td>807.42084</td>\n      <td>841.86934</td>\n      <td>8.158335</td>\n      <td>6.784250e+03</td>\n      <td>831.572913</td>\n      <td>0</td>\n      <td>0</td>\n    </tr>\n    <tr>\n      <th>3</th>\n      <td>2014-01-10</td>\n      <td>839.99000</td>\n      <td>857.34056</td>\n      <td>817.00000</td>\n      <td>857.33056</td>\n      <td>8.024510</td>\n      <td>6.780220e+03</td>\n      <td>844.938794</td>\n      <td>0</td>\n      <td>0</td>\n    </tr>\n    <tr>\n      <th>4</th>\n      <td>2014-01-11</td>\n      <td>858.20000</td>\n      <td>918.05471</td>\n      <td>857.16554</td>\n      <td>899.84105</td>\n      <td>18.748285</td>\n      <td>1.669857e+04</td>\n      <td>890.671709</td>\n      <td>0</td>\n      <td>0</td>\n    </tr>\n    <tr>\n      <th>...</th>\n      <td>...</td>\n      <td>...</td>\n      <td>...</td>\n      <td>...</td>\n      <td>...</td>\n      <td>...</td>\n      <td>...</td>\n      <td>...</td>\n      <td>...</td>\n      <td>...</td>\n    </tr>\n    <tr>\n      <th>2652</th>\n      <td>2021-04-21</td>\n      <td>56500.00000</td>\n      <td>56805.50000</td>\n      <td>53600.00000</td>\n      <td>53815.20000</td>\n      <td>4788.013532</td>\n      <td>2.645352e+08</td>\n      <td>55249.477244</td>\n      <td>1</td>\n      <td>1</td>\n    </tr>\n    <tr>\n      <th>2653</th>\n      <td>2021-04-22</td>\n      <td>53815.30000</td>\n      <td>55459.40000</td>\n      <td>50500.00000</td>\n      <td>51730.00000</td>\n      <td>10144.204074</td>\n      <td>5.396125e+08</td>\n      <td>53194.167081</td>\n      <td>1</td>\n      <td>1</td>\n    </tr>\n    <tr>\n      <th>2654</th>\n      <td>2021-04-23</td>\n      <td>51709.30000</td>\n      <td>52124.40000</td>\n      <td>47549.30000</td>\n      <td>51178.70000</td>\n      <td>11159.243380</td>\n      <td>5.545896e+08</td>\n      <td>49697.773594</td>\n      <td>1</td>\n      <td>0</td>\n    </tr>\n    <tr>\n      <th>2655</th>\n      <td>2021-04-24</td>\n      <td>51178.60000</td>\n      <td>51200.00000</td>\n      <td>48746.40000</td>\n      <td>50093.40000</td>\n      <td>4039.459093</td>\n      <td>2.021033e+08</td>\n      <td>50032.268888</td>\n      <td>1</td>\n      <td>1</td>\n    </tr>\n    <tr>\n      <th>2656</th>\n      <td>2021-04-25</td>\n      <td>50085.70000</td>\n      <td>50580.40000</td>\n      <td>47000.00000</td>\n      <td>48677.40000</td>\n      <td>4963.986222</td>\n      <td>2.434547e+08</td>\n      <td>49044.194158</td>\n      <td>1</td>\n      <td>1</td>\n    </tr>\n  </tbody>\n</table>\n<p>2657 rows × 10 columns</p>\n</div>",
      "text/plain": "            Date         Open         High          Low        Close  \\\n0     2014-01-07    874.67040    892.06753    810.00000    810.00000   \n1     2014-01-08    810.00000    899.84281    788.00000    824.98287   \n2     2014-01-09    825.56345    870.00000    807.42084    841.86934   \n3     2014-01-10    839.99000    857.34056    817.00000    857.33056   \n4     2014-01-11    858.20000    918.05471    857.16554    899.84105   \n...          ...          ...          ...          ...          ...   \n2652  2021-04-21  56500.00000  56805.50000  53600.00000  53815.20000   \n2653  2021-04-22  53815.30000  55459.40000  50500.00000  51730.00000   \n2654  2021-04-23  51709.30000  52124.40000  47549.30000  51178.70000   \n2655  2021-04-24  51178.60000  51200.00000  48746.40000  50093.40000   \n2656  2021-04-25  50085.70000  50580.40000  47000.00000  48677.40000   \n\n      Volume (BTC)  Volume (Currency)  Weighted Price  tag  0  \n0        15.622378       1.315147e+04      841.835522    0  1  \n1        19.182756       1.609733e+04      839.156269    0  1  \n2         8.158335       6.784250e+03      831.572913    0  0  \n3         8.024510       6.780220e+03      844.938794    0  0  \n4        18.748285       1.669857e+04      890.671709    0  0  \n...            ...                ...             ...  ... ..  \n2652   4788.013532       2.645352e+08    55249.477244    1  1  \n2653  10144.204074       5.396125e+08    53194.167081    1  1  \n2654  11159.243380       5.545896e+08    49697.773594    1  0  \n2655   4039.459093       2.021033e+08    50032.268888    1  1  \n2656   4963.986222       2.434547e+08    49044.194158    1  1  \n\n[2657 rows x 10 columns]"
     },
     "execution_count": 83,
     "metadata": {},
     "output_type": "execute_result"
    }
   ],
   "source": [
    "a "
   ]
  },
  {
   "cell_type": "code",
   "execution_count": 87,
   "metadata": {},
   "outputs": [],
   "source": [
    "a = a.drop([0],axis = 1)"
   ]
  },
  {
   "cell_type": "code",
   "execution_count": 90,
   "metadata": {},
   "outputs": [],
   "source": [
    "a.to_csv(\"pred.csv\",index = None)"
   ]
  },
  {
   "cell_type": "code",
   "execution_count": null,
   "metadata": {},
   "outputs": [],
   "source": []
  }
 ],
 "metadata": {
  "kernelspec": {
   "display_name": "Python 3.8.5 64-bit ('anaconda3-2020.11': pyenv)",
   "name": "python"
  },
  "language_info": {
   "codemirror_mode": {
    "name": "ipython",
    "version": 3
   },
   "file_extension": ".py",
   "mimetype": "text/x-python",
   "name": "python",
   "nbconvert_exporter": "python",
   "pygments_lexer": "ipython3",
   "version": "3.8.5"
  },
  "metadata": {
   "interpreter": {
    "hash": "09b947ba581bcc337bc7c28ed026ab68f0805dc98e756a19c45c9bd5e23e2d3d"
   }
  },
  "orig_nbformat": 2
 },
 "nbformat": 4,
 "nbformat_minor": 2
}