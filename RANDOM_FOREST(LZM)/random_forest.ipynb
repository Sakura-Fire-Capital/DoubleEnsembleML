{
 "metadata": {
  "language_info": {
   "codemirror_mode": {
    "name": "ipython",
    "version": 3
   },
   "file_extension": ".py",
   "mimetype": "text/x-python",
   "name": "python",
   "nbconvert_exporter": "python",
   "pygments_lexer": "ipython3",
   "version": 3
  },
  "orig_nbformat": 2
 },
 "nbformat": 4,
 "nbformat_minor": 2,
 "cells": [
  {
   "cell_type": "code",
   "execution_count": null,
   "metadata": {},
   "outputs": [],
   "source": [
    "from random import seed,randrange,random\n",
    "from sklearn.model_selection import train_test_split\n",
    "import numpy as np\n",
    " \n",
    "# import csv\n",
    "def loadDataSet(filename):\n",
    "    dataset = []\n",
    "    with open(filename, 'r') as fr:\n",
    "        for line in fr.readlines():\n",
    "            if not line:\n",
    "                continue\n",
    "            lineArr = []\n",
    "            for featrue in line.split(','):\n",
    "                str_f = featrue.strip()\n",
    "\n",
    "                if str_f.isalpha():     \n",
    "                    lineArr.append(str_f)\n",
    "                else:\n",
    "                    lineArr.append(float(str_f))\n",
    "            dataset.append(lineArr)\n",
    "    return dataset"
   ]
  },
  {
   "cell_type": "code",
   "execution_count": null,
   "metadata": {},
   "outputs": [],
   "source": [
    "# Split a dataset based on an attribute and an attribute value \n",
    "def test_split(index, value, dataset):\n",
    "    left, right = list(), list()\n",
    "    for row in dataset:\n",
    "        if row[index] < value:\n",
    "            left.append(row)\n",
    "        else:\n",
    "            right.append(row)\n",
    "    return left, right"
   ]
  },
  {
   "cell_type": "code",
   "execution_count": null,
   "metadata": {},
   "outputs": [],
   "source": [
    "def gini_index(groups, class_values):    \n",
    "    gini = 0.0\n",
    "    D = len(groups[0]) + len(groups[1])\n",
    "    for class_value in class_values:     # class_values = [0, 1]\n",
    "        for group in groups:             # groups = (left, right)\n",
    "            size = len(group)\n",
    "            if size == 0:\n",
    "                continue\n",
    "            proportion = [row[-1] for row in group].count(class_value) / float(size)\n",
    "            gini += float(size)/D * (proportion * (1.0 - proportion))    \n",
    "    return gini\n"
   ]
  }
 ]
}