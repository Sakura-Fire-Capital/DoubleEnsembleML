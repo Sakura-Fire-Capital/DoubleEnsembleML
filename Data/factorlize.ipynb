{
 "cells": [
  {
   "cell_type": "code",
   "execution_count": null,
   "metadata": {},
   "outputs": [],
   "source": [
    "import os\n",
    "import torch\n",
    "import torch.nn as nn\n",
    "import torch.utils.data as Data\n",
    "from sklearn.preprocessing import MinMaxScaler\n",
    "import pandas as pd \n",
    "import numpy as np \n",
    "from tqdm import tqdm\n",
    "import talib\n",
    "import matplotlib.pyplot as plt\n",
    "import plotly.graph_objects as go\n",
    "import math \n"
   ]
  },
  {
   "cell_type": "code",
   "execution_count": null,
   "metadata": {},
   "outputs": [],
   "source": [
    "path = \"/Users/zed/AI_Lab/DoubleEnsembleML/Data/\"\n",
    "list = [\"BTC\",\"ETC\",'ETH','FIL','LTC','XRP']\n",
    "df = pd.read_csv(path +list[1]+\".csv\")"
   ]
  },
  {
   "cell_type": "code",
   "execution_count": null,
   "metadata": {},
   "outputs": [],
   "source": [
    "datas = [0]*6"
   ]
  },
  {
   "cell_type": "code",
   "execution_count": null,
   "metadata": {},
   "outputs": [],
   "source": [
    "for i in range(6):\n",
    "    datas[i] = pd.read_csv(path +list[i]+\".csv\")\n",
    "    if i==0:\n",
    "        datas[i] = datas[i].loc[:,['Date','High','Low','Close','Volume (BTC)']].rename(columns = {'Volume (BTC)':'Volume'})\n",
    "        \n",
    "    if i>0:\n",
    "        datas[i] = datas[i].rename(columns={'Last':'Close'})\n",
    "        datas[i] = datas[i].drop(['Mid','Bid','Ask'],axis=1)\n",
    "    datas[i]['Date'] = pd.to_datetime(datas[i]['Date'])\n",
    "    datas[i] = datas[i].set_index('Date')"
   ]
  },
  {
   "cell_type": "code",
   "execution_count": null,
   "metadata": {},
   "outputs": [],
   "source": [
    "for i in range(6):\n",
    "    print(datas[i].columns)"
   ]
  },
  {
   "cell_type": "code",
   "execution_count": null,
   "metadata": {},
   "outputs": [],
   "source": [
    "datas[0]"
   ]
  },
  {
   "cell_type": "code",
   "execution_count": null,
   "metadata": {},
   "outputs": [],
   "source": []
  },
  {
   "cell_type": "code",
   "execution_count": null,
   "metadata": {},
   "outputs": [],
   "source": [
    "fig,ax = plt.subplots(2,3,figsize = (20,8),dpi = 100)\n",
    "for i in range(2):\n",
    "    for j in range(3):\n",
    "        df = datas[i+j]\n",
    "        # ax[i,j].set_xticklabels(rotation=45)\n",
    "        ax[i,j].plot(df['Close'])\n",
    "        "
   ]
  },
  {
   "cell_type": "code",
   "execution_count": null,
   "metadata": {},
   "outputs": [],
   "source": [
    "def cal_factor(dataset):\n",
    "    dataset['Open'] = dataset['Close'].shift(-1)\n",
    "    dataset['H-L'] = dataset['High'] - dataset['Low']\n",
    "    # dataset['O-C'] = dataset['Close'] - dataset['Open']\n",
    "    dataset['3day MA'] = dataset['Close'].shift(1).rolling(window = 3).mean()\n",
    "    dataset['10day MA'] = dataset['Close'].shift(1).rolling(window = 10).mean()\n",
    "    dataset['30day MA'] = dataset['Close'].shift(1).rolling(window = 30).mean()\n",
    "    dataset['Std_dev']= dataset['Close'].rolling(5).std()\n",
    "    dataset['RSI'] = talib.RSI(dataset['Close'].values, timeperiod = 9)\n",
    "    dataset['ATR'] = talib.ATR(dataset['High'].values, dataset['Low'].values, dataset['Close'].values, 7)\n",
    "    dataset['Upperband'], dataset['Middleband'], dataset['Lowerband'] = talib.BBANDS(dataset['Close'].values, timeperiod=5, nbdevup=2, nbdevdn=2, matype=0)\n",
    "    # dataset['ADX'] = talib.ADX(dataset.High, dataset.Low, dataset.Close, timeperiod=14)\n",
    "    for i in range(5):\n",
    "        s = \"Last \"+str(i+1)+\" Price\"\n",
    "        dataset[s] = dataset['Close'].shift(i+1)\n",
    "    dataset['Target_value'] = (dataset.Close.shift(-1)-dataset.Close)/dataset.Close\n",
    "    dataset['Target_tag'] = dataset.Target_value.apply(lambda x:1 if x>0 else 0)\n",
    "    data  = dataset.dropna(how = \"any\")\n",
    "    \n",
    "    return data \n",
    "def sign(x):\n",
    "    if x>0:\n",
    "        return 1\n",
    "    else: \n",
    "        return 0"
   ]
  },
  {
   "cell_type": "code",
   "execution_count": null,
   "metadata": {},
   "outputs": [],
   "source": []
  },
  {
   "cell_type": "code",
   "execution_count": null,
   "metadata": {},
   "outputs": [],
   "source": [
    "datas_fa = [0]*6\n",
    "for i in range(6):\n",
    "    datas_fa[i] = cal_factor(cal_factor(datas[i]))\n",
    "    datas_fa[i].to_csv('./data_factor/'+list[i]+'_fac.csv')"
   ]
  },
  {
   "cell_type": "code",
   "execution_count": null,
   "metadata": {},
   "outputs": [],
   "source": [
    "datas_fa[0]"
   ]
  },
  {
   "cell_type": "code",
   "execution_count": null,
   "metadata": {},
   "outputs": [],
   "source": []
  },
  {
   "cell_type": "code",
   "execution_count": null,
   "metadata": {},
   "outputs": [],
   "source": []
  }
 ],
 "metadata": {
  "kernelspec": {
   "display_name": "anaconda3-2020.11",
   "language": "python",
   "name": "python"
  },
  "language_info": {
   "name": "python",
   "version": ""
  },
  "metadata": {
   "interpreter": {
    "hash": "09b947ba581bcc337bc7c28ed026ab68f0805dc98e756a19c45c9bd5e23e2d3d"
   }
  },
  "orig_nbformat": 2
 },
 "nbformat": 4,
 "nbformat_minor": 2
}