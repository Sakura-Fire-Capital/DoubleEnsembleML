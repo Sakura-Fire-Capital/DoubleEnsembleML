{
 "cells": [
  {
   "cell_type": "code",
   "execution_count": 3,
   "metadata": {},
   "outputs": [],
   "source": [
    "import os \n",
    "import sys\n",
    "import numpy as np\n",
    "import pandas as pd\n",
    "import talib\n",
    "import matplotlib.pyplot as plt\n",
    "import plotly.graph_objects as go\n",
    "from tqdm import tqdm\n",
    "from sklearn.preprocessing import MinMaxScaler\n"
   ]
  },
  {
   "cell_type": "code",
   "execution_count": 4,
   "metadata": {},
   "outputs": [],
   "source": [
    "df1 = pd.read_csv('/Users/zed/AI_Lab/DoubleEnsembleML/Data/BTC.csv')"
   ]
  },
  {
   "cell_type": "code",
   "execution_count": 10,
   "metadata": {},
   "outputs": [],
   "source": [
    "df1 = df1.fillna(method='backfill')"
   ]
  },
  {
   "cell_type": "code",
   "execution_count": 15,
   "metadata": {},
   "outputs": [
    {
     "data": {
      "text/html": "<div>\n<style scoped>\n    .dataframe tbody tr th:only-of-type {\n        vertical-align: middle;\n    }\n\n    .dataframe tbody tr th {\n        vertical-align: top;\n    }\n\n    .dataframe thead th {\n        text-align: right;\n    }\n</style>\n<table border=\"1\" class=\"dataframe\">\n  <thead>\n    <tr style=\"text-align: right;\">\n      <th></th>\n      <th>Date</th>\n      <th>Open</th>\n      <th>High</th>\n      <th>Low</th>\n      <th>Close</th>\n      <th>Volume (BTC)</th>\n      <th>Volume (Currency)</th>\n      <th>Weighted Price</th>\n    </tr>\n  </thead>\n  <tbody>\n    <tr>\n      <th>0</th>\n      <td>2014-01-07</td>\n      <td>874.67040</td>\n      <td>892.06753</td>\n      <td>810.00000</td>\n      <td>810.00000</td>\n      <td>15.622378</td>\n      <td>1.315147e+04</td>\n      <td>841.835522</td>\n    </tr>\n    <tr>\n      <th>1</th>\n      <td>2014-01-08</td>\n      <td>810.00000</td>\n      <td>899.84281</td>\n      <td>788.00000</td>\n      <td>824.98287</td>\n      <td>19.182756</td>\n      <td>1.609733e+04</td>\n      <td>839.156269</td>\n    </tr>\n    <tr>\n      <th>2</th>\n      <td>2014-01-09</td>\n      <td>825.56345</td>\n      <td>870.00000</td>\n      <td>807.42084</td>\n      <td>841.86934</td>\n      <td>8.158335</td>\n      <td>6.784250e+03</td>\n      <td>831.572913</td>\n    </tr>\n    <tr>\n      <th>3</th>\n      <td>2014-01-10</td>\n      <td>839.99000</td>\n      <td>857.34056</td>\n      <td>817.00000</td>\n      <td>857.33056</td>\n      <td>8.024510</td>\n      <td>6.780220e+03</td>\n      <td>844.938794</td>\n    </tr>\n    <tr>\n      <th>4</th>\n      <td>2014-01-11</td>\n      <td>858.20000</td>\n      <td>918.05471</td>\n      <td>857.16554</td>\n      <td>899.84105</td>\n      <td>18.748285</td>\n      <td>1.669857e+04</td>\n      <td>890.671709</td>\n    </tr>\n    <tr>\n      <th>...</th>\n      <td>...</td>\n      <td>...</td>\n      <td>...</td>\n      <td>...</td>\n      <td>...</td>\n      <td>...</td>\n      <td>...</td>\n      <td>...</td>\n    </tr>\n    <tr>\n      <th>2652</th>\n      <td>2021-04-21</td>\n      <td>56500.00000</td>\n      <td>56805.50000</td>\n      <td>53600.00000</td>\n      <td>53815.20000</td>\n      <td>4788.013532</td>\n      <td>2.645352e+08</td>\n      <td>55249.477244</td>\n    </tr>\n    <tr>\n      <th>2653</th>\n      <td>2021-04-22</td>\n      <td>53815.30000</td>\n      <td>55459.40000</td>\n      <td>50500.00000</td>\n      <td>51730.00000</td>\n      <td>10144.204074</td>\n      <td>5.396125e+08</td>\n      <td>53194.167081</td>\n    </tr>\n    <tr>\n      <th>2654</th>\n      <td>2021-04-23</td>\n      <td>51709.30000</td>\n      <td>52124.40000</td>\n      <td>47549.30000</td>\n      <td>51178.70000</td>\n      <td>11159.243380</td>\n      <td>5.545896e+08</td>\n      <td>49697.773594</td>\n    </tr>\n    <tr>\n      <th>2655</th>\n      <td>2021-04-24</td>\n      <td>51178.60000</td>\n      <td>51200.00000</td>\n      <td>48746.40000</td>\n      <td>50093.40000</td>\n      <td>4039.459093</td>\n      <td>2.021033e+08</td>\n      <td>50032.268888</td>\n    </tr>\n    <tr>\n      <th>2656</th>\n      <td>2021-04-25</td>\n      <td>50085.70000</td>\n      <td>50580.40000</td>\n      <td>47000.00000</td>\n      <td>48677.40000</td>\n      <td>4963.986222</td>\n      <td>2.434547e+08</td>\n      <td>49044.194158</td>\n    </tr>\n  </tbody>\n</table>\n<p>2657 rows × 8 columns</p>\n</div>",
      "text/plain": "            Date         Open         High          Low        Close  \\\n0     2014-01-07    874.67040    892.06753    810.00000    810.00000   \n1     2014-01-08    810.00000    899.84281    788.00000    824.98287   \n2     2014-01-09    825.56345    870.00000    807.42084    841.86934   \n3     2014-01-10    839.99000    857.34056    817.00000    857.33056   \n4     2014-01-11    858.20000    918.05471    857.16554    899.84105   \n...          ...          ...          ...          ...          ...   \n2652  2021-04-21  56500.00000  56805.50000  53600.00000  53815.20000   \n2653  2021-04-22  53815.30000  55459.40000  50500.00000  51730.00000   \n2654  2021-04-23  51709.30000  52124.40000  47549.30000  51178.70000   \n2655  2021-04-24  51178.60000  51200.00000  48746.40000  50093.40000   \n2656  2021-04-25  50085.70000  50580.40000  47000.00000  48677.40000   \n\n      Volume (BTC)  Volume (Currency)  Weighted Price  \n0        15.622378       1.315147e+04      841.835522  \n1        19.182756       1.609733e+04      839.156269  \n2         8.158335       6.784250e+03      831.572913  \n3         8.024510       6.780220e+03      844.938794  \n4        18.748285       1.669857e+04      890.671709  \n...            ...                ...             ...  \n2652   4788.013532       2.645352e+08    55249.477244  \n2653  10144.204074       5.396125e+08    53194.167081  \n2654  11159.243380       5.545896e+08    49697.773594  \n2655   4039.459093       2.021033e+08    50032.268888  \n2656   4963.986222       2.434547e+08    49044.194158  \n\n[2657 rows x 8 columns]"
     },
     "execution_count": 15,
     "metadata": {},
     "output_type": "execute_result"
    }
   ],
   "source": [
    "df1 "
   ]
  },
  {
   "cell_type": "code",
   "execution_count": 29,
   "metadata": {},
   "outputs": [],
   "source": [
    "df1['r_0'] = df1.Close/df1.Close.shift(1)-1"
   ]
  },
  {
   "cell_type": "code",
   "execution_count": 22,
   "metadata": {},
   "outputs": [],
   "source": [
    "def getDailyVol(close,span0 = 100):\n",
    "    # df0 = close.index.searchsorted(close.index - pd.Timedelta(days=1))\n",
    "    # df0 = df0[df0>0]\n",
    "    # df0 = pd.Series(close.index[df0-1],index = close.index[close.shape[0]-df0.shape[0]])\n",
    "    df0 = close/close.shift(1)-1\n",
    "    df0 = df0.ewm(span = span0).std()\n",
    "    return df0"
   ]
  },
  {
   "cell_type": "code",
   "execution_count": 27,
   "metadata": {},
   "outputs": [],
   "source": [
    "dailyVol = getDailyVol(df1.Close)"
   ]
  },
  {
   "cell_type": "code",
   "execution_count": 46,
   "metadata": {},
   "outputs": [],
   "source": [
    "df1['tag'] = pd.Series(map(lambda x,y: 1 if x>0.2*y else(-1 if x<-0.2*y else 0),df1.r_0,dailyVol))"
   ]
  },
  {
   "cell_type": "code",
   "execution_count": null,
   "metadata": {},
   "outputs": [],
   "source": []
  },
  {
   "cell_type": "code",
   "execution_count": null,
   "metadata": {},
   "outputs": [],
   "source": []
  },
  {
   "cell_type": "code",
   "execution_count": null,
   "metadata": {},
   "outputs": [],
   "source": []
  }
 ],
 "metadata": {
  "kernelspec": {
   "display_name": "ana2021",
   "name": "ana2021"
  },
  "language_info": {
   "codemirror_mode": {
    "name": "ipython",
    "version": 3
   },
   "file_extension": ".py",
   "mimetype": "text/x-python",
   "name": "python",
   "nbconvert_exporter": "python",
   "pygments_lexer": "ipython3",
   "version": "3.8.8"
  },
  "orig_nbformat": 2
 },
 "nbformat": 4,
 "nbformat_minor": 2
}