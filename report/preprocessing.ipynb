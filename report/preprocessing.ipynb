{
 "cells": [
  {
   "cell_type": "code",
   "execution_count": 13,
   "metadata": {},
   "outputs": [],
   "source": [
    "import os \n",
    "import sys\n",
    "import numpy as np\n",
    "import pandas as pd\n",
    "import talib\n",
    "import matplotlib.pyplot as plt\n",
    "import plotly.graph_objects as go\n",
    "from tqdm import tqdm\n",
    "from sklearn.preprocessing import MinMaxScaler\n"
   ]
  },
  {
   "cell_type": "code",
   "execution_count": 14,
   "metadata": {},
   "outputs": [],
   "source": [
    "df1 = pd.read_csv('/Users/zed/AI_Lab/DoubleEnsembleML/Data/BTC.csv')"
   ]
  },
  {
   "cell_type": "code",
   "execution_count": 15,
   "metadata": {},
   "outputs": [],
   "source": [
    "df1 = df1.fillna(method='backfill')"
   ]
  },
  {
   "cell_type": "code",
   "execution_count": 16,
   "metadata": {},
   "outputs": [
    {
     "data": {
      "text/html": "<div>\n<style scoped>\n    .dataframe tbody tr th:only-of-type {\n        vertical-align: middle;\n    }\n\n    .dataframe tbody tr th {\n        vertical-align: top;\n    }\n\n    .dataframe thead th {\n        text-align: right;\n    }\n</style>\n<table border=\"1\" class=\"dataframe\">\n  <thead>\n    <tr style=\"text-align: right;\">\n      <th></th>\n      <th>Date</th>\n      <th>Open</th>\n      <th>High</th>\n      <th>Low</th>\n      <th>Close</th>\n      <th>Volume (BTC)</th>\n      <th>Volume (Currency)</th>\n      <th>Weighted Price</th>\n    </tr>\n  </thead>\n  <tbody>\n    <tr>\n      <th>0</th>\n      <td>2014-01-07</td>\n      <td>874.67040</td>\n      <td>892.06753</td>\n      <td>810.00000</td>\n      <td>810.00000</td>\n      <td>15.622378</td>\n      <td>1.315147e+04</td>\n      <td>841.835522</td>\n    </tr>\n    <tr>\n      <th>1</th>\n      <td>2014-01-08</td>\n      <td>810.00000</td>\n      <td>899.84281</td>\n      <td>788.00000</td>\n      <td>824.98287</td>\n      <td>19.182756</td>\n      <td>1.609733e+04</td>\n      <td>839.156269</td>\n    </tr>\n    <tr>\n      <th>2</th>\n      <td>2014-01-09</td>\n      <td>825.56345</td>\n      <td>870.00000</td>\n      <td>807.42084</td>\n      <td>841.86934</td>\n      <td>8.158335</td>\n      <td>6.784250e+03</td>\n      <td>831.572913</td>\n    </tr>\n    <tr>\n      <th>3</th>\n      <td>2014-01-10</td>\n      <td>839.99000</td>\n      <td>857.34056</td>\n      <td>817.00000</td>\n      <td>857.33056</td>\n      <td>8.024510</td>\n      <td>6.780220e+03</td>\n      <td>844.938794</td>\n    </tr>\n    <tr>\n      <th>4</th>\n      <td>2014-01-11</td>\n      <td>858.20000</td>\n      <td>918.05471</td>\n      <td>857.16554</td>\n      <td>899.84105</td>\n      <td>18.748285</td>\n      <td>1.669857e+04</td>\n      <td>890.671709</td>\n    </tr>\n    <tr>\n      <th>...</th>\n      <td>...</td>\n      <td>...</td>\n      <td>...</td>\n      <td>...</td>\n      <td>...</td>\n      <td>...</td>\n      <td>...</td>\n      <td>...</td>\n    </tr>\n    <tr>\n      <th>2652</th>\n      <td>2021-04-21</td>\n      <td>56500.00000</td>\n      <td>56805.50000</td>\n      <td>53600.00000</td>\n      <td>53815.20000</td>\n      <td>4788.013532</td>\n      <td>2.645352e+08</td>\n      <td>55249.477244</td>\n    </tr>\n    <tr>\n      <th>2653</th>\n      <td>2021-04-22</td>\n      <td>53815.30000</td>\n      <td>55459.40000</td>\n      <td>50500.00000</td>\n      <td>51730.00000</td>\n      <td>10144.204074</td>\n      <td>5.396125e+08</td>\n      <td>53194.167081</td>\n    </tr>\n    <tr>\n      <th>2654</th>\n      <td>2021-04-23</td>\n      <td>51709.30000</td>\n      <td>52124.40000</td>\n      <td>47549.30000</td>\n      <td>51178.70000</td>\n      <td>11159.243380</td>\n      <td>5.545896e+08</td>\n      <td>49697.773594</td>\n    </tr>\n    <tr>\n      <th>2655</th>\n      <td>2021-04-24</td>\n      <td>51178.60000</td>\n      <td>51200.00000</td>\n      <td>48746.40000</td>\n      <td>50093.40000</td>\n      <td>4039.459093</td>\n      <td>2.021033e+08</td>\n      <td>50032.268888</td>\n    </tr>\n    <tr>\n      <th>2656</th>\n      <td>2021-04-25</td>\n      <td>50085.70000</td>\n      <td>50580.40000</td>\n      <td>47000.00000</td>\n      <td>48677.40000</td>\n      <td>4963.986222</td>\n      <td>2.434547e+08</td>\n      <td>49044.194158</td>\n    </tr>\n  </tbody>\n</table>\n<p>2657 rows × 8 columns</p>\n</div>",
      "text/plain": "            Date         Open         High          Low        Close  \\\n0     2014-01-07    874.67040    892.06753    810.00000    810.00000   \n1     2014-01-08    810.00000    899.84281    788.00000    824.98287   \n2     2014-01-09    825.56345    870.00000    807.42084    841.86934   \n3     2014-01-10    839.99000    857.34056    817.00000    857.33056   \n4     2014-01-11    858.20000    918.05471    857.16554    899.84105   \n...          ...          ...          ...          ...          ...   \n2652  2021-04-21  56500.00000  56805.50000  53600.00000  53815.20000   \n2653  2021-04-22  53815.30000  55459.40000  50500.00000  51730.00000   \n2654  2021-04-23  51709.30000  52124.40000  47549.30000  51178.70000   \n2655  2021-04-24  51178.60000  51200.00000  48746.40000  50093.40000   \n2656  2021-04-25  50085.70000  50580.40000  47000.00000  48677.40000   \n\n      Volume (BTC)  Volume (Currency)  Weighted Price  \n0        15.622378       1.315147e+04      841.835522  \n1        19.182756       1.609733e+04      839.156269  \n2         8.158335       6.784250e+03      831.572913  \n3         8.024510       6.780220e+03      844.938794  \n4        18.748285       1.669857e+04      890.671709  \n...            ...                ...             ...  \n2652   4788.013532       2.645352e+08    55249.477244  \n2653  10144.204074       5.396125e+08    53194.167081  \n2654  11159.243380       5.545896e+08    49697.773594  \n2655   4039.459093       2.021033e+08    50032.268888  \n2656   4963.986222       2.434547e+08    49044.194158  \n\n[2657 rows x 8 columns]"
     },
     "execution_count": 16,
     "metadata": {},
     "output_type": "execute_result"
    }
   ],
   "source": [
    "df1 "
   ]
  },
  {
   "cell_type": "code",
   "execution_count": 17,
   "metadata": {},
   "outputs": [],
   "source": [
    "df1['r_0'] = df1.Close/df1.Close.shift(1)-1"
   ]
  },
  {
   "cell_type": "code",
   "execution_count": 18,
   "metadata": {},
   "outputs": [],
   "source": [
    "def getDailyVol(close,span0 = 100):\n",
    "    # df0 = close.index.searchsorted(close.index - pd.Timedelta(days=1))\n",
    "    # df0 = df0[df0>0]\n",
    "    # df0 = pd.Series(close.index[df0-1],index = close.index[close.shape[0]-df0.shape[0]])\n",
    "    df0 = close/close.shift(1)-1\n",
    "    df0 = df0.ewm(span = span0).std()\n",
    "    return df0"
   ]
  },
  {
   "cell_type": "code",
   "execution_count": 19,
   "metadata": {},
   "outputs": [],
   "source": [
    "dailyVol = getDailyVol(df1.Close)"
   ]
  },
  {
   "cell_type": "code",
   "execution_count": 20,
   "metadata": {},
   "outputs": [],
   "source": [
    "df1['tag'] = pd.Series(map(lambda x,y: 1 if x>0.2*y else(-1 if x<-0.2*y else 0),df1.r_0,dailyVol))"
   ]
  },
  {
   "cell_type": "code",
   "execution_count": 22,
   "metadata": {},
   "outputs": [],
   "source": [
    "df2 =df1.loc[:,['Date','High','Low','Close','Volume (BTC)','tag']].rename(columns = {'Volume (BTC)':'Volume'})"
   ]
  },
  {
   "cell_type": "code",
   "execution_count": 23,
   "metadata": {},
   "outputs": [
    {
     "data": {
      "text/html": "<div>\n<style scoped>\n    .dataframe tbody tr th:only-of-type {\n        vertical-align: middle;\n    }\n\n    .dataframe tbody tr th {\n        vertical-align: top;\n    }\n\n    .dataframe thead th {\n        text-align: right;\n    }\n</style>\n<table border=\"1\" class=\"dataframe\">\n  <thead>\n    <tr style=\"text-align: right;\">\n      <th></th>\n      <th>Date</th>\n      <th>High</th>\n      <th>Low</th>\n      <th>Close</th>\n      <th>Volume</th>\n      <th>tag</th>\n    </tr>\n  </thead>\n  <tbody>\n    <tr>\n      <th>0</th>\n      <td>2014-01-07</td>\n      <td>892.06753</td>\n      <td>810.00000</td>\n      <td>810.00000</td>\n      <td>15.622378</td>\n      <td>0</td>\n    </tr>\n    <tr>\n      <th>1</th>\n      <td>2014-01-08</td>\n      <td>899.84281</td>\n      <td>788.00000</td>\n      <td>824.98287</td>\n      <td>19.182756</td>\n      <td>0</td>\n    </tr>\n    <tr>\n      <th>2</th>\n      <td>2014-01-09</td>\n      <td>870.00000</td>\n      <td>807.42084</td>\n      <td>841.86934</td>\n      <td>8.158335</td>\n      <td>1</td>\n    </tr>\n    <tr>\n      <th>3</th>\n      <td>2014-01-10</td>\n      <td>857.34056</td>\n      <td>817.00000</td>\n      <td>857.33056</td>\n      <td>8.024510</td>\n      <td>1</td>\n    </tr>\n    <tr>\n      <th>4</th>\n      <td>2014-01-11</td>\n      <td>918.05471</td>\n      <td>857.16554</td>\n      <td>899.84105</td>\n      <td>18.748285</td>\n      <td>1</td>\n    </tr>\n    <tr>\n      <th>...</th>\n      <td>...</td>\n      <td>...</td>\n      <td>...</td>\n      <td>...</td>\n      <td>...</td>\n      <td>...</td>\n    </tr>\n    <tr>\n      <th>2652</th>\n      <td>2021-04-21</td>\n      <td>56805.50000</td>\n      <td>53600.00000</td>\n      <td>53815.20000</td>\n      <td>4788.013532</td>\n      <td>-1</td>\n    </tr>\n    <tr>\n      <th>2653</th>\n      <td>2021-04-22</td>\n      <td>55459.40000</td>\n      <td>50500.00000</td>\n      <td>51730.00000</td>\n      <td>10144.204074</td>\n      <td>-1</td>\n    </tr>\n    <tr>\n      <th>2654</th>\n      <td>2021-04-23</td>\n      <td>52124.40000</td>\n      <td>47549.30000</td>\n      <td>51178.70000</td>\n      <td>11159.243380</td>\n      <td>-1</td>\n    </tr>\n    <tr>\n      <th>2655</th>\n      <td>2021-04-24</td>\n      <td>51200.00000</td>\n      <td>48746.40000</td>\n      <td>50093.40000</td>\n      <td>4039.459093</td>\n      <td>-1</td>\n    </tr>\n    <tr>\n      <th>2656</th>\n      <td>2021-04-25</td>\n      <td>50580.40000</td>\n      <td>47000.00000</td>\n      <td>48677.40000</td>\n      <td>4963.986222</td>\n      <td>-1</td>\n    </tr>\n  </tbody>\n</table>\n<p>2657 rows × 6 columns</p>\n</div>",
      "text/plain": "            Date         High          Low        Close        Volume  tag\n0     2014-01-07    892.06753    810.00000    810.00000     15.622378    0\n1     2014-01-08    899.84281    788.00000    824.98287     19.182756    0\n2     2014-01-09    870.00000    807.42084    841.86934      8.158335    1\n3     2014-01-10    857.34056    817.00000    857.33056      8.024510    1\n4     2014-01-11    918.05471    857.16554    899.84105     18.748285    1\n...          ...          ...          ...          ...           ...  ...\n2652  2021-04-21  56805.50000  53600.00000  53815.20000   4788.013532   -1\n2653  2021-04-22  55459.40000  50500.00000  51730.00000  10144.204074   -1\n2654  2021-04-23  52124.40000  47549.30000  51178.70000  11159.243380   -1\n2655  2021-04-24  51200.00000  48746.40000  50093.40000   4039.459093   -1\n2656  2021-04-25  50580.40000  47000.00000  48677.40000   4963.986222   -1\n\n[2657 rows x 6 columns]"
     },
     "execution_count": 23,
     "metadata": {},
     "output_type": "execute_result"
    }
   ],
   "source": [
    "df2"
   ]
  },
  {
   "cell_type": "code",
   "execution_count": 24,
   "metadata": {},
   "outputs": [],
   "source": [
    "dataset = df2 "
   ]
  },
  {
   "cell_type": "code",
   "execution_count": 26,
   "metadata": {},
   "outputs": [],
   "source": [
    "dataset['Open'] = dataset['Close'].shift(-1)\n",
    "dataset['H-L'] = dataset['High'] - dataset['Low']\n",
    "# dataset['O-C'] = dataset['Close'] - dataset['Open']\n",
    "dataset['3day MA'] = dataset['Close'].shift(1).rolling(window = 3).mean()\n",
    "dataset['10day MA'] = dataset['Close'].shift(1).rolling(window = 10).mean()\n",
    "dataset['30day MA'] = dataset['Close'].shift(1).rolling(window = 30).mean()\n",
    "dataset['CCI'] = talib.AROONOSC(dataset.High, dataset.Low, timeperiod=14)\n",
    "dataset['RSI'] = talib.RSI(dataset['Close'].values, timeperiod = 9)\n",
    "dataset['ATR'] = talib.ATR(dataset['High'].values, dataset['Low'].values, dataset['Close'].values, 7)\n",
    "dataset['OBV'] = talib.OBV(dataset.Close, dataset.Volume)\n",
    "dataset['HT_DCPERIOD'] = talib.HT_DCPERIOD(dataset.Close)"
   ]
  },
  {
   "cell_type": "code",
   "execution_count": 30,
   "metadata": {},
   "outputs": [],
   "source": [
    "y = dataset['tag']\n",
    "dataset = dataset.drop(['tag'],axis=1)\n"
   ]
  },
  {
   "cell_type": "code",
   "execution_count": 31,
   "metadata": {},
   "outputs": [
    {
     "data": {
      "text/html": "<div>\n<style scoped>\n    .dataframe tbody tr th:only-of-type {\n        vertical-align: middle;\n    }\n\n    .dataframe tbody tr th {\n        vertical-align: top;\n    }\n\n    .dataframe thead th {\n        text-align: right;\n    }\n</style>\n<table border=\"1\" class=\"dataframe\">\n  <thead>\n    <tr style=\"text-align: right;\">\n      <th></th>\n      <th>Date</th>\n      <th>High</th>\n      <th>Low</th>\n      <th>Close</th>\n      <th>Volume</th>\n      <th>Open</th>\n      <th>H-L</th>\n      <th>3day MA</th>\n      <th>10day MA</th>\n      <th>30day MA</th>\n      <th>CCI</th>\n      <th>RSI</th>\n      <th>ATR</th>\n      <th>OBV</th>\n      <th>HT_DCPERIOD</th>\n    </tr>\n  </thead>\n  <tbody>\n    <tr>\n      <th>0</th>\n      <td>2014-01-07</td>\n      <td>892.06753</td>\n      <td>810.00000</td>\n      <td>810.00000</td>\n      <td>15.622378</td>\n      <td>824.98287</td>\n      <td>82.06753</td>\n      <td>NaN</td>\n      <td>NaN</td>\n      <td>NaN</td>\n      <td>NaN</td>\n      <td>NaN</td>\n      <td>NaN</td>\n      <td>15.622378</td>\n      <td>NaN</td>\n    </tr>\n    <tr>\n      <th>1</th>\n      <td>2014-01-08</td>\n      <td>899.84281</td>\n      <td>788.00000</td>\n      <td>824.98287</td>\n      <td>19.182756</td>\n      <td>841.86934</td>\n      <td>111.84281</td>\n      <td>NaN</td>\n      <td>NaN</td>\n      <td>NaN</td>\n      <td>NaN</td>\n      <td>NaN</td>\n      <td>NaN</td>\n      <td>34.805134</td>\n      <td>NaN</td>\n    </tr>\n    <tr>\n      <th>2</th>\n      <td>2014-01-09</td>\n      <td>870.00000</td>\n      <td>807.42084</td>\n      <td>841.86934</td>\n      <td>8.158335</td>\n      <td>857.33056</td>\n      <td>62.57916</td>\n      <td>NaN</td>\n      <td>NaN</td>\n      <td>NaN</td>\n      <td>NaN</td>\n      <td>NaN</td>\n      <td>NaN</td>\n      <td>42.963468</td>\n      <td>NaN</td>\n    </tr>\n    <tr>\n      <th>3</th>\n      <td>2014-01-10</td>\n      <td>857.34056</td>\n      <td>817.00000</td>\n      <td>857.33056</td>\n      <td>8.024510</td>\n      <td>899.84105</td>\n      <td>40.34056</td>\n      <td>825.617403</td>\n      <td>NaN</td>\n      <td>NaN</td>\n      <td>NaN</td>\n      <td>NaN</td>\n      <td>NaN</td>\n      <td>50.987979</td>\n      <td>NaN</td>\n    </tr>\n    <tr>\n      <th>4</th>\n      <td>2014-01-11</td>\n      <td>918.05471</td>\n      <td>857.16554</td>\n      <td>899.84105</td>\n      <td>18.748285</td>\n      <td>860.00000</td>\n      <td>60.88917</td>\n      <td>841.394257</td>\n      <td>NaN</td>\n      <td>NaN</td>\n      <td>NaN</td>\n      <td>NaN</td>\n      <td>NaN</td>\n      <td>69.736264</td>\n      <td>NaN</td>\n    </tr>\n    <tr>\n      <th>...</th>\n      <td>...</td>\n      <td>...</td>\n      <td>...</td>\n      <td>...</td>\n      <td>...</td>\n      <td>...</td>\n      <td>...</td>\n      <td>...</td>\n      <td>...</td>\n      <td>...</td>\n      <td>...</td>\n      <td>...</td>\n      <td>...</td>\n      <td>...</td>\n      <td>...</td>\n    </tr>\n    <tr>\n      <th>2652</th>\n      <td>2021-04-21</td>\n      <td>56805.50000</td>\n      <td>53600.00000</td>\n      <td>53815.20000</td>\n      <td>4788.013532</td>\n      <td>51730.00000</td>\n      <td>3205.50000</td>\n      <td>56153.266667</td>\n      <td>59957.89</td>\n      <td>57851.923333</td>\n      <td>-28.571429</td>\n      <td>31.587568</td>\n      <td>3594.414995</td>\n      <td>606743.431869</td>\n      <td>15.992169</td>\n    </tr>\n    <tr>\n      <th>2653</th>\n      <td>2021-04-22</td>\n      <td>55459.40000</td>\n      <td>50500.00000</td>\n      <td>51730.00000</td>\n      <td>10144.204074</td>\n      <td>51178.70000</td>\n      <td>4959.40000</td>\n      <td>55345.066667</td>\n      <td>59343.81</td>\n      <td>57842.593333</td>\n      <td>-57.142857</td>\n      <td>26.873534</td>\n      <td>3789.412853</td>\n      <td>596599.227795</td>\n      <td>15.760320</td>\n    </tr>\n    <tr>\n      <th>2654</th>\n      <td>2021-04-23</td>\n      <td>52124.40000</td>\n      <td>47549.30000</td>\n      <td>51178.70000</td>\n      <td>11159.243380</td>\n      <td>50093.40000</td>\n      <td>4575.10000</td>\n      <td>54015.066667</td>\n      <td>58534.44</td>\n      <td>57755.216667</td>\n      <td>-64.285714</td>\n      <td>25.731360</td>\n      <td>3901.653874</td>\n      <td>585439.984415</td>\n      <td>15.631061</td>\n    </tr>\n    <tr>\n      <th>2655</th>\n      <td>2021-04-24</td>\n      <td>51200.00000</td>\n      <td>48746.40000</td>\n      <td>50093.40000</td>\n      <td>4039.459093</td>\n      <td>48677.40000</td>\n      <td>2453.60000</td>\n      <td>52241.300000</td>\n      <td>57293.59</td>\n      <td>57718.046667</td>\n      <td>-64.285714</td>\n      <td>23.517675</td>\n      <td>3694.789035</td>\n      <td>581400.525322</td>\n      <td>15.618939</td>\n    </tr>\n    <tr>\n      <th>2656</th>\n      <td>2021-04-25</td>\n      <td>50580.40000</td>\n      <td>47000.00000</td>\n      <td>48677.40000</td>\n      <td>4963.986222</td>\n      <td>NaN</td>\n      <td>3580.40000</td>\n      <td>51000.700000</td>\n      <td>56006.03</td>\n      <td>57677.330000</td>\n      <td>-78.571429</td>\n      <td>20.880925</td>\n      <td>3678.447744</td>\n      <td>576436.539100</td>\n      <td>15.671421</td>\n    </tr>\n  </tbody>\n</table>\n<p>2657 rows × 15 columns</p>\n</div>",
      "text/plain": "            Date         High          Low        Close        Volume  \\\n0     2014-01-07    892.06753    810.00000    810.00000     15.622378   \n1     2014-01-08    899.84281    788.00000    824.98287     19.182756   \n2     2014-01-09    870.00000    807.42084    841.86934      8.158335   \n3     2014-01-10    857.34056    817.00000    857.33056      8.024510   \n4     2014-01-11    918.05471    857.16554    899.84105     18.748285   \n...          ...          ...          ...          ...           ...   \n2652  2021-04-21  56805.50000  53600.00000  53815.20000   4788.013532   \n2653  2021-04-22  55459.40000  50500.00000  51730.00000  10144.204074   \n2654  2021-04-23  52124.40000  47549.30000  51178.70000  11159.243380   \n2655  2021-04-24  51200.00000  48746.40000  50093.40000   4039.459093   \n2656  2021-04-25  50580.40000  47000.00000  48677.40000   4963.986222   \n\n             Open         H-L       3day MA  10day MA      30day MA  \\\n0       824.98287    82.06753           NaN       NaN           NaN   \n1       841.86934   111.84281           NaN       NaN           NaN   \n2       857.33056    62.57916           NaN       NaN           NaN   \n3       899.84105    40.34056    825.617403       NaN           NaN   \n4       860.00000    60.88917    841.394257       NaN           NaN   \n...           ...         ...           ...       ...           ...   \n2652  51730.00000  3205.50000  56153.266667  59957.89  57851.923333   \n2653  51178.70000  4959.40000  55345.066667  59343.81  57842.593333   \n2654  50093.40000  4575.10000  54015.066667  58534.44  57755.216667   \n2655  48677.40000  2453.60000  52241.300000  57293.59  57718.046667   \n2656          NaN  3580.40000  51000.700000  56006.03  57677.330000   \n\n            CCI        RSI          ATR            OBV  HT_DCPERIOD  \n0           NaN        NaN          NaN      15.622378          NaN  \n1           NaN        NaN          NaN      34.805134          NaN  \n2           NaN        NaN          NaN      42.963468          NaN  \n3           NaN        NaN          NaN      50.987979          NaN  \n4           NaN        NaN          NaN      69.736264          NaN  \n...         ...        ...          ...            ...          ...  \n2652 -28.571429  31.587568  3594.414995  606743.431869    15.992169  \n2653 -57.142857  26.873534  3789.412853  596599.227795    15.760320  \n2654 -64.285714  25.731360  3901.653874  585439.984415    15.631061  \n2655 -64.285714  23.517675  3694.789035  581400.525322    15.618939  \n2656 -78.571429  20.880925  3678.447744  576436.539100    15.671421  \n\n[2657 rows x 15 columns]"
     },
     "execution_count": 31,
     "metadata": {},
     "output_type": "execute_result"
    }
   ],
   "source": [
    "dataset"
   ]
  },
  {
   "cell_type": "code",
   "execution_count": 33,
   "metadata": {},
   "outputs": [
    {
     "data": {
      "text/plain": "0               NaN\n1         810.00000\n2         824.98287\n3         841.86934\n4         857.33056\n           ...     \n2652    56500.00000\n2653    53815.20000\n2654    51730.00000\n2655    51178.70000\n2656    50093.40000\nName: Close, Length: 2657, dtype: float64"
     },
     "execution_count": 33,
     "metadata": {},
     "output_type": "execute_result"
    }
   ],
   "source": [
    "dataset.Close.shift(1)"
   ]
  },
  {
   "cell_type": "code",
   "execution_count": 34,
   "metadata": {},
   "outputs": [],
   "source": [
    "for i in range(1,6):\n",
    "    name = 'Last'+str(i)+'Price'\n",
    "    dataset[name] = dataset.Close.shift(i)"
   ]
  },
  {
   "cell_type": "code",
   "execution_count": 35,
   "metadata": {},
   "outputs": [],
   "source": [
    "dataset['tag'] = y "
   ]
  },
  {
   "cell_type": "code",
   "execution_count": 37,
   "metadata": {},
   "outputs": [],
   "source": [
    "dataset = dataset.dropna(how = 'any')"
   ]
  },
  {
   "cell_type": "code",
   "execution_count": 39,
   "metadata": {},
   "outputs": [],
   "source": [
    "dataset.to_csv('mybtc.csv')"
   ]
  },
  {
   "cell_type": "code",
   "execution_count": null,
   "metadata": {},
   "outputs": [],
   "source": []
  }
 ],
 "metadata": {
  "kernelspec": {
   "display_name": "ana2021",
   "language": "python",
   "name": "ana2021"
  },
  "language_info": {
   "codemirror_mode": {
    "name": "ipython",
    "version": 3
   },
   "file_extension": ".py",
   "mimetype": "text/x-python",
   "name": "python",
   "nbconvert_exporter": "python",
   "pygments_lexer": "ipython3",
   "version": "3.8.8"
  },
  "orig_nbformat": 2
 },
 "nbformat": 4,
 "nbformat_minor": 2
}