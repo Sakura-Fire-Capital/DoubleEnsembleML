{
 "cells": [
  {
   "cell_type": "code",
   "execution_count": 22,
   "metadata": {},
   "outputs": [],
   "source": [
    "import pandas as pd\n",
    "import numpy as np\n",
    "from sklearn import linear_model\n",
    "import statsmodels.api as sm\n",
    "from sklearn.metrics import confusion_matrix\n",
    "from sklearn.linear_model import LogisticRegression\n",
    "from sklearn import linear_model\n",
    "import warnings\n",
    "warnings.filterwarnings(\"ignore\")"
   ]
  },
  {
   "cell_type": "code",
   "execution_count": 3,
   "metadata": {},
   "outputs": [
    {
     "data": {
      "text/html": [
       "<div>\n",
       "<style scoped>\n",
       "    .dataframe tbody tr th:only-of-type {\n",
       "        vertical-align: middle;\n",
       "    }\n",
       "\n",
       "    .dataframe tbody tr th {\n",
       "        vertical-align: top;\n",
       "    }\n",
       "\n",
       "    .dataframe thead th {\n",
       "        text-align: right;\n",
       "    }\n",
       "</style>\n",
       "<table border=\"1\" class=\"dataframe\">\n",
       "  <thead>\n",
       "    <tr style=\"text-align: right;\">\n",
       "      <th></th>\n",
       "      <th>Unnamed: 0</th>\n",
       "      <th>Date</th>\n",
       "      <th>High</th>\n",
       "      <th>Low</th>\n",
       "      <th>Close</th>\n",
       "      <th>Volume</th>\n",
       "      <th>Open</th>\n",
       "      <th>H-L</th>\n",
       "      <th>3day MA</th>\n",
       "      <th>10day MA</th>\n",
       "      <th>...</th>\n",
       "      <th>RSI</th>\n",
       "      <th>ATR</th>\n",
       "      <th>OBV</th>\n",
       "      <th>HT_DCPERIOD</th>\n",
       "      <th>Last1Price</th>\n",
       "      <th>Last2Price</th>\n",
       "      <th>Last3Price</th>\n",
       "      <th>Last4Price</th>\n",
       "      <th>Last5Price</th>\n",
       "      <th>tag</th>\n",
       "    </tr>\n",
       "  </thead>\n",
       "  <tbody>\n",
       "    <tr>\n",
       "      <th>0</th>\n",
       "      <td>32</td>\n",
       "      <td>2014-02-08</td>\n",
       "      <td>730.0000</td>\n",
       "      <td>680.01000</td>\n",
       "      <td>699.30255</td>\n",
       "      <td>31.042254</td>\n",
       "      <td>689.00000</td>\n",
       "      <td>49.99000</td>\n",
       "      <td>761.410300</td>\n",
       "      <td>796.146558</td>\n",
       "      <td>...</td>\n",
       "      <td>22.702711</td>\n",
       "      <td>40.886460</td>\n",
       "      <td>-168.377924</td>\n",
       "      <td>15.646696</td>\n",
       "      <td>714.12206</td>\n",
       "      <td>767.60884</td>\n",
       "      <td>802.50000</td>\n",
       "      <td>802.40000</td>\n",
       "      <td>819.78000</td>\n",
       "      <td>-1</td>\n",
       "    </tr>\n",
       "    <tr>\n",
       "      <th>1</th>\n",
       "      <td>33</td>\n",
       "      <td>2014-02-09</td>\n",
       "      <td>756.0998</td>\n",
       "      <td>684.85098</td>\n",
       "      <td>689.00000</td>\n",
       "      <td>38.291274</td>\n",
       "      <td>690.20000</td>\n",
       "      <td>71.24882</td>\n",
       "      <td>727.011150</td>\n",
       "      <td>786.576813</td>\n",
       "      <td>...</td>\n",
       "      <td>21.318570</td>\n",
       "      <td>45.223940</td>\n",
       "      <td>-206.669198</td>\n",
       "      <td>17.190252</td>\n",
       "      <td>699.30255</td>\n",
       "      <td>714.12206</td>\n",
       "      <td>767.60884</td>\n",
       "      <td>802.50000</td>\n",
       "      <td>802.40000</td>\n",
       "      <td>-1</td>\n",
       "    </tr>\n",
       "    <tr>\n",
       "      <th>2</th>\n",
       "      <td>34</td>\n",
       "      <td>2014-02-10</td>\n",
       "      <td>748.0000</td>\n",
       "      <td>550.00000</td>\n",
       "      <td>690.20000</td>\n",
       "      <td>29.856668</td>\n",
       "      <td>714.56111</td>\n",
       "      <td>198.00000</td>\n",
       "      <td>700.808203</td>\n",
       "      <td>774.676813</td>\n",
       "      <td>...</td>\n",
       "      <td>21.942173</td>\n",
       "      <td>67.049091</td>\n",
       "      <td>-176.812530</td>\n",
       "      <td>18.731589</td>\n",
       "      <td>689.00000</td>\n",
       "      <td>699.30255</td>\n",
       "      <td>714.12206</td>\n",
       "      <td>767.60884</td>\n",
       "      <td>802.50000</td>\n",
       "      <td>0</td>\n",
       "    </tr>\n",
       "    <tr>\n",
       "      <th>3</th>\n",
       "      <td>35</td>\n",
       "      <td>2014-02-11</td>\n",
       "      <td>720.0000</td>\n",
       "      <td>660.00000</td>\n",
       "      <td>714.56111</td>\n",
       "      <td>33.331274</td>\n",
       "      <td>670.66590</td>\n",
       "      <td>60.00000</td>\n",
       "      <td>692.834183</td>\n",
       "      <td>762.477776</td>\n",
       "      <td>...</td>\n",
       "      <td>33.905912</td>\n",
       "      <td>66.042078</td>\n",
       "      <td>-143.481256</td>\n",
       "      <td>20.302886</td>\n",
       "      <td>690.20000</td>\n",
       "      <td>689.00000</td>\n",
       "      <td>699.30255</td>\n",
       "      <td>714.12206</td>\n",
       "      <td>767.60884</td>\n",
       "      <td>1</td>\n",
       "    </tr>\n",
       "    <tr>\n",
       "      <th>4</th>\n",
       "      <td>36</td>\n",
       "      <td>2014-02-12</td>\n",
       "      <td>709.9300</td>\n",
       "      <td>651.30901</td>\n",
       "      <td>670.66590</td>\n",
       "      <td>17.641851</td>\n",
       "      <td>623.94582</td>\n",
       "      <td>58.62099</td>\n",
       "      <td>697.920370</td>\n",
       "      <td>751.433887</td>\n",
       "      <td>...</td>\n",
       "      <td>25.868810</td>\n",
       "      <td>65.643510</td>\n",
       "      <td>-161.123107</td>\n",
       "      <td>21.888230</td>\n",
       "      <td>714.56111</td>\n",
       "      <td>690.20000</td>\n",
       "      <td>689.00000</td>\n",
       "      <td>699.30255</td>\n",
       "      <td>714.12206</td>\n",
       "      <td>-1</td>\n",
       "    </tr>\n",
       "    <tr>\n",
       "      <th>...</th>\n",
       "      <td>...</td>\n",
       "      <td>...</td>\n",
       "      <td>...</td>\n",
       "      <td>...</td>\n",
       "      <td>...</td>\n",
       "      <td>...</td>\n",
       "      <td>...</td>\n",
       "      <td>...</td>\n",
       "      <td>...</td>\n",
       "      <td>...</td>\n",
       "      <td>...</td>\n",
       "      <td>...</td>\n",
       "      <td>...</td>\n",
       "      <td>...</td>\n",
       "      <td>...</td>\n",
       "      <td>...</td>\n",
       "      <td>...</td>\n",
       "      <td>...</td>\n",
       "      <td>...</td>\n",
       "      <td>...</td>\n",
       "      <td>...</td>\n",
       "    </tr>\n",
       "    <tr>\n",
       "      <th>2619</th>\n",
       "      <td>2651</td>\n",
       "      <td>2021-04-20</td>\n",
       "      <td>57110.4000</td>\n",
       "      <td>53388.30000</td>\n",
       "      <td>56500.00000</td>\n",
       "      <td>7804.231919</td>\n",
       "      <td>53815.20000</td>\n",
       "      <td>3722.10000</td>\n",
       "      <td>57348.333333</td>\n",
       "      <td>60285.450000</td>\n",
       "      <td>...</td>\n",
       "      <td>39.522061</td>\n",
       "      <td>3659.234161</td>\n",
       "      <td>611531.445401</td>\n",
       "      <td>16.272246</td>\n",
       "      <td>55720.00000</td>\n",
       "      <td>56239.80000</td>\n",
       "      <td>60085.20000</td>\n",
       "      <td>61455.00000</td>\n",
       "      <td>63243.00000</td>\n",
       "      <td>1</td>\n",
       "    </tr>\n",
       "    <tr>\n",
       "      <th>2620</th>\n",
       "      <td>2652</td>\n",
       "      <td>2021-04-21</td>\n",
       "      <td>56805.5000</td>\n",
       "      <td>53600.00000</td>\n",
       "      <td>53815.20000</td>\n",
       "      <td>4788.013532</td>\n",
       "      <td>51730.00000</td>\n",
       "      <td>3205.50000</td>\n",
       "      <td>56153.266667</td>\n",
       "      <td>59957.890000</td>\n",
       "      <td>...</td>\n",
       "      <td>31.587568</td>\n",
       "      <td>3594.414995</td>\n",
       "      <td>606743.431869</td>\n",
       "      <td>15.992169</td>\n",
       "      <td>56500.00000</td>\n",
       "      <td>55720.00000</td>\n",
       "      <td>56239.80000</td>\n",
       "      <td>60085.20000</td>\n",
       "      <td>61455.00000</td>\n",
       "      <td>-1</td>\n",
       "    </tr>\n",
       "    <tr>\n",
       "      <th>2621</th>\n",
       "      <td>2653</td>\n",
       "      <td>2021-04-22</td>\n",
       "      <td>55459.4000</td>\n",
       "      <td>50500.00000</td>\n",
       "      <td>51730.00000</td>\n",
       "      <td>10144.204074</td>\n",
       "      <td>51178.70000</td>\n",
       "      <td>4959.40000</td>\n",
       "      <td>55345.066667</td>\n",
       "      <td>59343.810000</td>\n",
       "      <td>...</td>\n",
       "      <td>26.873534</td>\n",
       "      <td>3789.412853</td>\n",
       "      <td>596599.227795</td>\n",
       "      <td>15.760320</td>\n",
       "      <td>53815.20000</td>\n",
       "      <td>56500.00000</td>\n",
       "      <td>55720.00000</td>\n",
       "      <td>56239.80000</td>\n",
       "      <td>60085.20000</td>\n",
       "      <td>-1</td>\n",
       "    </tr>\n",
       "    <tr>\n",
       "      <th>2622</th>\n",
       "      <td>2654</td>\n",
       "      <td>2021-04-23</td>\n",
       "      <td>52124.4000</td>\n",
       "      <td>47549.30000</td>\n",
       "      <td>51178.70000</td>\n",
       "      <td>11159.243380</td>\n",
       "      <td>50093.40000</td>\n",
       "      <td>4575.10000</td>\n",
       "      <td>54015.066667</td>\n",
       "      <td>58534.440000</td>\n",
       "      <td>...</td>\n",
       "      <td>25.731360</td>\n",
       "      <td>3901.653874</td>\n",
       "      <td>585439.984415</td>\n",
       "      <td>15.631061</td>\n",
       "      <td>51730.00000</td>\n",
       "      <td>53815.20000</td>\n",
       "      <td>56500.00000</td>\n",
       "      <td>55720.00000</td>\n",
       "      <td>56239.80000</td>\n",
       "      <td>-1</td>\n",
       "    </tr>\n",
       "    <tr>\n",
       "      <th>2623</th>\n",
       "      <td>2655</td>\n",
       "      <td>2021-04-24</td>\n",
       "      <td>51200.0000</td>\n",
       "      <td>48746.40000</td>\n",
       "      <td>50093.40000</td>\n",
       "      <td>4039.459093</td>\n",
       "      <td>48677.40000</td>\n",
       "      <td>2453.60000</td>\n",
       "      <td>52241.300000</td>\n",
       "      <td>57293.590000</td>\n",
       "      <td>...</td>\n",
       "      <td>23.517675</td>\n",
       "      <td>3694.789035</td>\n",
       "      <td>581400.525322</td>\n",
       "      <td>15.618939</td>\n",
       "      <td>51178.70000</td>\n",
       "      <td>51730.00000</td>\n",
       "      <td>53815.20000</td>\n",
       "      <td>56500.00000</td>\n",
       "      <td>55720.00000</td>\n",
       "      <td>-1</td>\n",
       "    </tr>\n",
       "  </tbody>\n",
       "</table>\n",
       "<p>2624 rows × 22 columns</p>\n",
       "</div>"
      ],
      "text/plain": [
       "      Unnamed: 0        Date        High          Low        Close  \\\n",
       "0             32  2014-02-08    730.0000    680.01000    699.30255   \n",
       "1             33  2014-02-09    756.0998    684.85098    689.00000   \n",
       "2             34  2014-02-10    748.0000    550.00000    690.20000   \n",
       "3             35  2014-02-11    720.0000    660.00000    714.56111   \n",
       "4             36  2014-02-12    709.9300    651.30901    670.66590   \n",
       "...          ...         ...         ...          ...          ...   \n",
       "2619        2651  2021-04-20  57110.4000  53388.30000  56500.00000   \n",
       "2620        2652  2021-04-21  56805.5000  53600.00000  53815.20000   \n",
       "2621        2653  2021-04-22  55459.4000  50500.00000  51730.00000   \n",
       "2622        2654  2021-04-23  52124.4000  47549.30000  51178.70000   \n",
       "2623        2655  2021-04-24  51200.0000  48746.40000  50093.40000   \n",
       "\n",
       "            Volume         Open         H-L       3day MA      10day MA  ...  \\\n",
       "0        31.042254    689.00000    49.99000    761.410300    796.146558  ...   \n",
       "1        38.291274    690.20000    71.24882    727.011150    786.576813  ...   \n",
       "2        29.856668    714.56111   198.00000    700.808203    774.676813  ...   \n",
       "3        33.331274    670.66590    60.00000    692.834183    762.477776  ...   \n",
       "4        17.641851    623.94582    58.62099    697.920370    751.433887  ...   \n",
       "...            ...          ...         ...           ...           ...  ...   \n",
       "2619   7804.231919  53815.20000  3722.10000  57348.333333  60285.450000  ...   \n",
       "2620   4788.013532  51730.00000  3205.50000  56153.266667  59957.890000  ...   \n",
       "2621  10144.204074  51178.70000  4959.40000  55345.066667  59343.810000  ...   \n",
       "2622  11159.243380  50093.40000  4575.10000  54015.066667  58534.440000  ...   \n",
       "2623   4039.459093  48677.40000  2453.60000  52241.300000  57293.590000  ...   \n",
       "\n",
       "            RSI          ATR            OBV  HT_DCPERIOD   Last1Price  \\\n",
       "0     22.702711    40.886460    -168.377924    15.646696    714.12206   \n",
       "1     21.318570    45.223940    -206.669198    17.190252    699.30255   \n",
       "2     21.942173    67.049091    -176.812530    18.731589    689.00000   \n",
       "3     33.905912    66.042078    -143.481256    20.302886    690.20000   \n",
       "4     25.868810    65.643510    -161.123107    21.888230    714.56111   \n",
       "...         ...          ...            ...          ...          ...   \n",
       "2619  39.522061  3659.234161  611531.445401    16.272246  55720.00000   \n",
       "2620  31.587568  3594.414995  606743.431869    15.992169  56500.00000   \n",
       "2621  26.873534  3789.412853  596599.227795    15.760320  53815.20000   \n",
       "2622  25.731360  3901.653874  585439.984415    15.631061  51730.00000   \n",
       "2623  23.517675  3694.789035  581400.525322    15.618939  51178.70000   \n",
       "\n",
       "       Last2Price   Last3Price   Last4Price   Last5Price  tag  \n",
       "0       767.60884    802.50000    802.40000    819.78000   -1  \n",
       "1       714.12206    767.60884    802.50000    802.40000   -1  \n",
       "2       699.30255    714.12206    767.60884    802.50000    0  \n",
       "3       689.00000    699.30255    714.12206    767.60884    1  \n",
       "4       690.20000    689.00000    699.30255    714.12206   -1  \n",
       "...           ...          ...          ...          ...  ...  \n",
       "2619  56239.80000  60085.20000  61455.00000  63243.00000    1  \n",
       "2620  55720.00000  56239.80000  60085.20000  61455.00000   -1  \n",
       "2621  56500.00000  55720.00000  56239.80000  60085.20000   -1  \n",
       "2622  53815.20000  56500.00000  55720.00000  56239.80000   -1  \n",
       "2623  51730.00000  53815.20000  56500.00000  55720.00000   -1  \n",
       "\n",
       "[2624 rows x 22 columns]"
      ]
     },
     "execution_count": 3,
     "metadata": {},
     "output_type": "execute_result"
    }
   ],
   "source": [
    "fhand=pd.read_csv('mybtc(1).csv')\n",
    "fhand"
   ]
  },
  {
   "cell_type": "code",
   "execution_count": 4,
   "metadata": {},
   "outputs": [],
   "source": [
    "del fhand['Date']"
   ]
  },
  {
   "cell_type": "code",
   "execution_count": 15,
   "metadata": {},
   "outputs": [],
   "source": [
    "x=fhand.iloc[:,:5]\n",
    "y=fhand.loc[:,['tag']]"
   ]
  },
  {
   "cell_type": "code",
   "execution_count": 16,
   "metadata": {},
   "outputs": [
    {
     "data": {
      "text/html": [
       "<div>\n",
       "<style scoped>\n",
       "    .dataframe tbody tr th:only-of-type {\n",
       "        vertical-align: middle;\n",
       "    }\n",
       "\n",
       "    .dataframe tbody tr th {\n",
       "        vertical-align: top;\n",
       "    }\n",
       "\n",
       "    .dataframe thead th {\n",
       "        text-align: right;\n",
       "    }\n",
       "</style>\n",
       "<table border=\"1\" class=\"dataframe\">\n",
       "  <thead>\n",
       "    <tr style=\"text-align: right;\">\n",
       "      <th></th>\n",
       "      <th>Unnamed: 0</th>\n",
       "      <th>High</th>\n",
       "      <th>Low</th>\n",
       "      <th>Close</th>\n",
       "      <th>Volume</th>\n",
       "    </tr>\n",
       "  </thead>\n",
       "  <tbody>\n",
       "    <tr>\n",
       "      <th>0</th>\n",
       "      <td>32</td>\n",
       "      <td>730.0000</td>\n",
       "      <td>680.01000</td>\n",
       "      <td>699.30255</td>\n",
       "      <td>31.042254</td>\n",
       "    </tr>\n",
       "    <tr>\n",
       "      <th>1</th>\n",
       "      <td>33</td>\n",
       "      <td>756.0998</td>\n",
       "      <td>684.85098</td>\n",
       "      <td>689.00000</td>\n",
       "      <td>38.291274</td>\n",
       "    </tr>\n",
       "    <tr>\n",
       "      <th>2</th>\n",
       "      <td>34</td>\n",
       "      <td>748.0000</td>\n",
       "      <td>550.00000</td>\n",
       "      <td>690.20000</td>\n",
       "      <td>29.856668</td>\n",
       "    </tr>\n",
       "    <tr>\n",
       "      <th>3</th>\n",
       "      <td>35</td>\n",
       "      <td>720.0000</td>\n",
       "      <td>660.00000</td>\n",
       "      <td>714.56111</td>\n",
       "      <td>33.331274</td>\n",
       "    </tr>\n",
       "    <tr>\n",
       "      <th>4</th>\n",
       "      <td>36</td>\n",
       "      <td>709.9300</td>\n",
       "      <td>651.30901</td>\n",
       "      <td>670.66590</td>\n",
       "      <td>17.641851</td>\n",
       "    </tr>\n",
       "    <tr>\n",
       "      <th>...</th>\n",
       "      <td>...</td>\n",
       "      <td>...</td>\n",
       "      <td>...</td>\n",
       "      <td>...</td>\n",
       "      <td>...</td>\n",
       "    </tr>\n",
       "    <tr>\n",
       "      <th>2619</th>\n",
       "      <td>2651</td>\n",
       "      <td>57110.4000</td>\n",
       "      <td>53388.30000</td>\n",
       "      <td>56500.00000</td>\n",
       "      <td>7804.231919</td>\n",
       "    </tr>\n",
       "    <tr>\n",
       "      <th>2620</th>\n",
       "      <td>2652</td>\n",
       "      <td>56805.5000</td>\n",
       "      <td>53600.00000</td>\n",
       "      <td>53815.20000</td>\n",
       "      <td>4788.013532</td>\n",
       "    </tr>\n",
       "    <tr>\n",
       "      <th>2621</th>\n",
       "      <td>2653</td>\n",
       "      <td>55459.4000</td>\n",
       "      <td>50500.00000</td>\n",
       "      <td>51730.00000</td>\n",
       "      <td>10144.204074</td>\n",
       "    </tr>\n",
       "    <tr>\n",
       "      <th>2622</th>\n",
       "      <td>2654</td>\n",
       "      <td>52124.4000</td>\n",
       "      <td>47549.30000</td>\n",
       "      <td>51178.70000</td>\n",
       "      <td>11159.243380</td>\n",
       "    </tr>\n",
       "    <tr>\n",
       "      <th>2623</th>\n",
       "      <td>2655</td>\n",
       "      <td>51200.0000</td>\n",
       "      <td>48746.40000</td>\n",
       "      <td>50093.40000</td>\n",
       "      <td>4039.459093</td>\n",
       "    </tr>\n",
       "  </tbody>\n",
       "</table>\n",
       "<p>2624 rows × 5 columns</p>\n",
       "</div>"
      ],
      "text/plain": [
       "      Unnamed: 0        High          Low        Close        Volume\n",
       "0             32    730.0000    680.01000    699.30255     31.042254\n",
       "1             33    756.0998    684.85098    689.00000     38.291274\n",
       "2             34    748.0000    550.00000    690.20000     29.856668\n",
       "3             35    720.0000    660.00000    714.56111     33.331274\n",
       "4             36    709.9300    651.30901    670.66590     17.641851\n",
       "...          ...         ...          ...          ...           ...\n",
       "2619        2651  57110.4000  53388.30000  56500.00000   7804.231919\n",
       "2620        2652  56805.5000  53600.00000  53815.20000   4788.013532\n",
       "2621        2653  55459.4000  50500.00000  51730.00000  10144.204074\n",
       "2622        2654  52124.4000  47549.30000  51178.70000  11159.243380\n",
       "2623        2655  51200.0000  48746.40000  50093.40000   4039.459093\n",
       "\n",
       "[2624 rows x 5 columns]"
      ]
     },
     "execution_count": 16,
     "metadata": {},
     "output_type": "execute_result"
    }
   ],
   "source": [
    "x"
   ]
  },
  {
   "cell_type": "code",
   "execution_count": 17,
   "metadata": {},
   "outputs": [
    {
     "name": "stderr",
     "output_type": "stream",
     "text": [
      "D:\\anaconda\\lib\\site-packages\\sklearn\\utils\\validation.py:760: DataConversionWarning: A column-vector y was passed when a 1d array was expected. Please change the shape of y to (n_samples, ), for example using ravel().\n",
      "  y = column_or_1d(y, warn=True)\n"
     ]
    },
    {
     "data": {
      "text/plain": [
       "LogisticRegression(C=1.0, class_weight=None, dual=False, fit_intercept=True,\n",
       "                   intercept_scaling=1, l1_ratio=None, max_iter=100,\n",
       "                   multi_class='auto', n_jobs=None, penalty='l2',\n",
       "                   random_state=None, solver='liblinear', tol=0.0001, verbose=0,\n",
       "                   warm_start=False)"
      ]
     },
     "execution_count": 17,
     "metadata": {},
     "output_type": "execute_result"
    }
   ],
   "source": [
    "lr=linear_model.LogisticRegression(solver='liblinear')\n",
    "lr.fit(x,y)"
   ]
  },
  {
   "cell_type": "code",
   "execution_count": 18,
   "metadata": {},
   "outputs": [
    {
     "data": {
      "text/plain": [
       "0.6116615853658537"
      ]
     },
     "execution_count": 18,
     "metadata": {},
     "output_type": "execute_result"
    }
   ],
   "source": [
    "lr.score(x,y)"
   ]
  },
  {
   "cell_type": "code",
   "execution_count": 24,
   "metadata": {},
   "outputs": [
    {
     "data": {
      "text/plain": [
       "[<matplotlib.lines.Line2D at 0x19bddcffcc8>]"
      ]
     },
     "execution_count": 24,
     "metadata": {},
     "output_type": "execute_result"
    },
    {
     "data": {
      "image/png": "[encoded data removed]",
      "text/plain": [
       "<Figure size 432x288 with 1 Axes>"
      ]
     },
     "metadata": {
      "needs_background": "light"
     },
     "output_type": "display_data"
    }
   ],
   "source": [
    "import matplotlib.pyplot as plt\n",
    "from math import log10\n",
    "from sklearn.model_selection import KFold\n",
    "kf=KFold(n_splits=4)\n",
    "Accuracy=[]\n",
    "for c in [0.0001,0.001,0.01,0.1,1,10,100,1000,10000,100000,1000000]:\n",
    "    acc=[]\n",
    "    for train_index, test_index in kf.split(x,y):\n",
    "        lr = LogisticRegression(solver='lbfgs', multi_class='multinomial',C = c,max_iter=100000000000)\n",
    "        lr.fit(x.iloc[train_index],y.iloc[train_index])\n",
    "        acc.append(lr.score(x.iloc[test_index],y.iloc[test_index]))\n",
    "    Accuracy.append(np.mean(acc))\n",
    "C=[0.0001,0.001,0.01,0.1,1,10,100,1000,10000,100000,1000000]\n",
    "C1=[]\n",
    "for i in C:\n",
    "    C1.append(log10(i))\n",
    "plt.plot(C1,Accuracy)"
   ]
  },
  {
   "cell_type": "code",
   "execution_count": 30,
   "metadata": {},
   "outputs": [
    {
     "data": {
      "text/plain": [
       "LogisticRegression(C=10, class_weight=None, dual=False, fit_intercept=True,\n",
       "                   intercept_scaling=1, l1_ratio=None, max_iter=100000000000,\n",
       "                   multi_class='multinomial', n_jobs=None, penalty='l2',\n",
       "                   random_state=None, solver='lbfgs', tol=0.0001, verbose=0,\n",
       "                   warm_start=False)"
      ]
     },
     "execution_count": 30,
     "metadata": {},
     "output_type": "execute_result"
    }
   ],
   "source": [
    "lr = LogisticRegression(solver='lbfgs', multi_class='multinomial',C = 10,max_iter=100000000000)\n",
    "lr.fit(x,y)"
   ]
  },
  {
   "cell_type": "code",
   "execution_count": 32,
   "metadata": {},
   "outputs": [
    {
     "data": {
      "text/plain": [
       "0.6108993902439024"
      ]
     },
     "execution_count": 32,
     "metadata": {},
     "output_type": "execute_result"
    }
   ],
   "source": [
    "lr.score(x,y)"
   ]
  },
  {
   "cell_type": "code",
   "execution_count": 33,
   "metadata": {},
   "outputs": [],
   "source": [
    "from sklearn.utils import shuffle\n",
    " \n",
    "X_shuffle, y_shuffle = shuffle(x, y)"
   ]
  },
  {
   "cell_type": "code",
   "execution_count": 34,
   "metadata": {},
   "outputs": [
    {
     "data": {
      "text/plain": [
       "LogisticRegression(C=1000000000.0, class_weight=None, dual=False,\n",
       "                   fit_intercept=True, intercept_scaling=1, l1_ratio=None,\n",
       "                   max_iter=100000000000, multi_class='multinomial',\n",
       "                   n_jobs=None, penalty='l2', random_state=None, solver='lbfgs',\n",
       "                   tol=0.0001, verbose=0, warm_start=False)"
      ]
     },
     "execution_count": 34,
     "metadata": {},
     "output_type": "execute_result"
    }
   ],
   "source": [
    "lr = LogisticRegression(solver='lbfgs', multi_class='multinomial',C = 1e9,max_iter=100000000000)\n",
    "lr.fit(X_shuffle,y_shuffle)"
   ]
  },
  {
   "cell_type": "code",
   "execution_count": 35,
   "metadata": {},
   "outputs": [
    {
     "data": {
      "text/plain": [
       "0.6105182926829268"
      ]
     },
     "execution_count": 35,
     "metadata": {},
     "output_type": "execute_result"
    }
   ],
   "source": [
    "lr.score(X_shuffle,y_shuffle)"
   ]
  },
  {
   "cell_type": "code",
   "execution_count": 53,
   "metadata": {},
   "outputs": [
    {
     "data": {
      "text/plain": [
       "array([[342,  61,  49],\n",
       "       [348, 731, 353],\n",
       "       [ 65, 146, 529]], dtype=int64)"
      ]
     },
     "execution_count": 53,
     "metadata": {},
     "output_type": "execute_result"
    }
   ],
   "source": [
    "cm=confusion_matrix(lr.predict(X_shuffle),y_shuffle)\n",
    "cm"
   ]
  },
  {
   "cell_type": "code",
   "execution_count": 48,
   "metadata": {},
   "outputs": [],
   "source": [
    "def plot_confusion_matrix(cm, labels_name, title):\n",
    "    cm = cm.astype('float') / cm.sum(axis=1)[:, np.newaxis]    # 归一化\n",
    "    plt.imshow(cm, interpolation='nearest')    # 在特定的窗口上显示图像\n",
    "    plt.title(title)    # 图像标题\n",
    "    plt.colorbar()\n",
    "    num_local = np.array(range(len(labels_name)))    \n",
    "    plt.xticks(num_local, labels_name, rotation=90)    # 将标签印在x轴坐标上\n",
    "    plt.yticks(num_local, labels_name)    # 将标签印在y轴坐标上\n",
    "    plt.ylabel('True label')    \n",
    "    plt.xlabel('Predicted label')"
   ]
  },
  {
   "cell_type": "code",
   "execution_count": 52,
   "metadata": {},
   "outputs": [
    {
     "data": {
      "image/png": "[encoded data removed]",
      "text/plain": [
       "<Figure size 432x288 with 2 Axes>"
      ]
     },
     "metadata": {
      "needs_background": "light"
     },
     "output_type": "display_data"
    }
   ],
   "source": [
    "plot_confusion_matrix(cm, [\"1\",'2','3'], \"HAR Confusion Matrix\")\n",
    "# plt.savefig('/HAR_cm.png', format='png')\n",
    "plt.show()"
   ]
  },
  {
   "cell_type": "code",
   "execution_count": 54,
   "metadata": {},
   "outputs": [],
   "source": []
  },
  {
   "cell_type": "code",
   "execution_count": null,
   "metadata": {},
   "outputs": [],
   "source": []
  },
  {
   "cell_type": "code",
   "execution_count": null,
   "metadata": {},
   "outputs": [],
   "source": []
  }
 ],
 "metadata": {
  "kernelspec": {
   "display_name": "Python 3",
   "language": "python",
   "name": "python3"
  },
  "language_info": {
   "codemirror_mode": {
    "name": "ipython",
    "version": 3
   },
   "file_extension": ".py",
   "mimetype": "text/x-python",
   "name": "python",
   "nbconvert_exporter": "python",
   "pygments_lexer": "ipython3",
   "version": "3.7.6"
  }
 },
 "nbformat": 4,
 "nbformat_minor": 4
}
